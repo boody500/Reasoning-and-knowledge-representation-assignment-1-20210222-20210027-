{
  "nbformat": 4,
  "nbformat_minor": 0,
  "metadata": {
    "colab": {
      "provenance": []
    },
    "kernelspec": {
      "name": "python3",
      "display_name": "Python 3"
    },
    "language_info": {
      "name": "python"
    }
  },
  "cells": [
    {
      "cell_type": "markdown",
      "source": [
        "# \"~(all x p(x) -> ~each x q(x))\"\n"
      ],
      "metadata": {
        "id": "kKaFQWkV5yO2"
      }
    },
    {
      "cell_type": "code",
      "execution_count": 4,
      "metadata": {
        "id": "CQoPZLrD2YhO"
      },
      "outputs": [],
      "source": [
        "def Eliminate_Implication(expression):\n",
        "  temp1 = expression[expression.find('(')+1 : expression.find(\"->\")]\n",
        "  temp2 = expression[expression.find('->')+2 : expression.rfind(')')+1]\n",
        "\n",
        "  x =  expression[0:expression.find('(')+1] + '~' + temp1 + '|' + temp2\n",
        "  return x\n",
        "\n",
        "\n",
        "def Demorgan(expression):\n",
        "  if expression.find('~(') != -1:\n",
        "   expression = expression.replace('|','&')\n",
        "   temp1 = expression[expression.find('(')+1 : expression.find(\"&\")]\n",
        "   temp2 = expression[expression.find(\"&\")+2 : ]\n",
        "\n",
        "\n",
        "   temp1 = '(~' + temp1\n",
        "   temp2 = '~' + temp2\n",
        "   x = temp1 + '& ' + temp2\n",
        "   return x\n",
        "\n",
        "\n",
        "def Remove_Double_Not(expression):\n",
        "  while(expression.find('~~') != -1):\n",
        "    expression = expression.replace('~~','')\n",
        "\n",
        "  return expression\n",
        "\n",
        "\n",
        "def Standardize(expression):\n",
        "  temp2 = expression[expression.find(\"&\")+2 : ]\n",
        "\n",
        "  while(temp2.find('x') != -1):\n",
        "    temp2 = temp2.replace('x','y')\n",
        "\n",
        "  return expression[0 : expression.find('&')] + '& ' + temp2\n",
        "\n",
        "\n",
        "def Prenex_Form(expression):\n",
        "  expression = expression.replace('all x','')\n",
        "  expression = expression.replace('each y','')\n",
        "  expression = 'all x each y' + expression\n",
        "  return expression\n",
        "\n",
        "\n",
        "def Skolemization(expression):\n",
        "  while expression.find('each y') != -1:\n",
        "    expression = expression.replace('each y','')\n",
        "\n",
        "  while expression.find('y') != -1:\n",
        "    expression = expression.replace('y','a')\n",
        "\n",
        "  return expression\n",
        "\n",
        "\n",
        "def Eliminate_Universal_Quantifiers(expression):\n",
        "  while expression.find('all x') != -1:\n",
        "    expression = expression.replace('all x','')\n",
        "\n",
        "  return expression\n",
        "\n",
        "\n",
        "def To_CNF(expression):\n",
        "  return expression\n",
        "\n",
        "\n",
        "def Clauses(expression):\n",
        "\n",
        "  expression = expression[3 : len(expression)-1]\n",
        "\n",
        "  clauses = [ expression[0 : expression.find('&')-1] , expression[expression.find('&')+3 : ] ]\n",
        "\n",
        "\n",
        "  return clauses"
      ]
    },
    {
      "cell_type": "code",
      "source": [
        "exp = \"~(all x p(x) -> ~each x q(x))\"\n",
        "print(\"Expression:\",exp)\n",
        "exp = Eliminate_Implication(exp)\n",
        "print(\"Eliminate Implication:\", exp)\n",
        "\n",
        "exp = Demorgan(exp)\n",
        "print(\"Move Negation Inward:\", exp)\n",
        "\n",
        "exp = Remove_Double_Not(exp)\n",
        "print(\"Remove Double Negation:\", exp)\n",
        "\n",
        "exp = Standardize(exp)\n",
        "print(\"Standardize Variable Scope:\", exp)\n",
        "\n",
        "exp = Prenex_Form(exp)\n",
        "print(\"Prenex Form:\", exp)\n",
        "\n",
        "exp = Skolemization(exp)\n",
        "print(\"Skolemization:\", exp)\n",
        "\n",
        "exp = Eliminate_Universal_Quantifiers(exp)\n",
        "print(\"Eliminate Universal Quantifiers:\", exp)\n",
        "\n",
        "exp = To_CNF(exp)\n",
        "print(\"Convert to CNF:\", exp)\n",
        "\n",
        "exp = Clauses(exp)\n",
        "print(\"Clauses:\")\n",
        "for clause in exp:\n",
        "  print('{' + clause + '}')"
      ],
      "metadata": {
        "colab": {
          "base_uri": "https://localhost:8080/"
        },
        "id": "kOPpkDF94H4i",
        "outputId": "04953139-99b7-4968-e5eb-2370dc324256"
      },
      "execution_count": 5,
      "outputs": [
        {
          "output_type": "stream",
          "name": "stdout",
          "text": [
            "Expression: ~(all x p(x) -> ~each x q(x))\n",
            "Eliminate Implication: ~(~all x p(x) | ~each x q(x))\n",
            "Move Negation Inward: (~~all x p(x) & ~~each x q(x))\n",
            "Remove Double Negation: (all x p(x) & each x q(x))\n",
            "Standardize Variable Scope: (all x p(x) & each y q(y))\n",
            "Prenex Form: all x each y( p(x) &  q(y))\n",
            "Skolemization: all x ( p(x) &  q(a))\n",
            "Eliminate Universal Quantifiers:  ( p(x) &  q(a))\n",
            "Convert to CNF:  ( p(x) &  q(a))\n",
            "Clauses:\n",
            "{p(x)}\n",
            "{q(a)}\n"
          ]
        }
      ]
    }
  ]
}